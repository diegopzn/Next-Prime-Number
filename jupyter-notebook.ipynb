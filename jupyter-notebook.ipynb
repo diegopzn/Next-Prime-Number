{
 "cells": [
  {
   "cell_type": "markdown",
   "metadata": {},
   "source": [
    "# Next Prime Number"
   ]
  },
  {
   "cell_type": "markdown",
   "metadata": {},
   "source": [
    "**Description:** Have the program find prime numbers until the user chooses to stop asking for the next one."
   ]
  },
  {
   "cell_type": "markdown",
   "metadata": {},
   "source": [
    "## Logic"
   ]
  },
  {
   "cell_type": "markdown",
   "metadata": {},
   "source": [
    "1. Prime flag function\n",
    "2. Generate the next prime\n",
    "3. Ask user for input"
   ]
  },
  {
   "cell_type": "markdown",
   "metadata": {},
   "source": [
    "## Code"
   ]
  },
  {
   "cell_type": "markdown",
   "metadata": {},
   "source": [
    "### I. Prime flag function"
   ]
  },
  {
   "cell_type": "code",
   "execution_count": 1,
   "metadata": {},
   "outputs": [],
   "source": [
    "def is_prime(num):\n",
    "    \"\"\"\n",
    "    Flags whether the number (num) is prime\n",
    "    \"\"\"\n",
    "    if num > 1:\n",
    "        if num == 2:\n",
    "            return True\n",
    "        elif num % 2 == 0:\n",
    "            return False\n",
    "        for divisor in range(3, int(num**(1/2)+1), 2):\n",
    "            if num % divisor == 0:\n",
    "                return False\n",
    "        return True\n",
    "    return False\n"
   ]
  },
  {
   "cell_type": "code",
   "execution_count": 2,
   "metadata": {},
   "outputs": [
    {
     "data": {
      "text/plain": [
       "True"
      ]
     },
     "execution_count": 2,
     "metadata": {},
     "output_type": "execute_result"
    }
   ],
   "source": [
    "# Test\n",
    "is_prime(17)"
   ]
  },
  {
   "cell_type": "markdown",
   "metadata": {},
   "source": [
    "### II. Generate the next prime"
   ]
  },
  {
   "cell_type": "code",
   "execution_count": 3,
   "metadata": {},
   "outputs": [],
   "source": [
    "def gen_prime():\n",
    "    \"\"\"\n",
    "    Generates the next prime number\n",
    "    \"\"\"\n",
    "    yield 2\n",
    "    num = 3\n",
    "    while True:\n",
    "        if is_prime(num):\n",
    "            yield num\n",
    "\n",
    "        num += 2"
   ]
  },
  {
   "cell_type": "code",
   "execution_count": 4,
   "metadata": {},
   "outputs": [
    {
     "data": {
      "text/plain": [
       "<generator object gen_prime at 0x000002162AFA8318>"
      ]
     },
     "execution_count": 4,
     "metadata": {},
     "output_type": "execute_result"
    }
   ],
   "source": [
    "# Test\n",
    "gen_prime()"
   ]
  },
  {
   "cell_type": "markdown",
   "metadata": {},
   "source": [
    "### III. Ask for input"
   ]
  },
  {
   "cell_type": "code",
   "execution_count": 5,
   "metadata": {},
   "outputs": [
    {
     "name": "stdout",
     "output_type": "stream",
     "text": [
      "Would you like to see the next prime? (Y/N): y\n",
      "2 is the next prime number.\n",
      "Would you like to see the next prime? (Y/N): y\n",
      "3 is the next prime number.\n",
      "Would you like to see the next prime? (Y/N): y\n",
      "5 is the next prime number.\n",
      "Would you like to see the next prime? (Y/N): y\n",
      "7 is the next prime number.\n",
      "Would you like to see the next prime? (Y/N): y\n",
      "11 is the next prime number.\n",
      "Would you like to see the next prime? (Y/N): y\n",
      "13 is the next prime number.\n",
      "Would you like to see the next prime? (Y/N): y\n",
      "17 is the next prime number.\n",
      "Would you like to see the next prime? (Y/N): y\n",
      "19 is the next prime number.\n",
      "Would you like to see the next prime? (Y/N): y\n",
      "23 is the next prime number.\n",
      "Would you like to see the next prime? (Y/N): y\n",
      "29 is the next prime number.\n",
      "Would you like to see the next prime? (Y/N): y\n",
      "31 is the next prime number.\n",
      "Would you like to see the next prime? (Y/N): y\n",
      "37 is the next prime number.\n",
      "Would you like to see the next prime? (Y/N): y\n",
      "41 is the next prime number.\n",
      "Would you like to see the next prime? (Y/N): y\n",
      "43 is the next prime number.\n",
      "Would you like to see the next prime? (Y/N): y\n",
      "47 is the next prime number.\n",
      "Would you like to see the next prime? (Y/N): y\n",
      "53 is the next prime number.\n",
      "Would you like to see the next prime? (Y/N): n\n"
     ]
    }
   ],
   "source": [
    "def main():\n",
    "    \"\"\"\n",
    "    Asks the user for input\n",
    "    \"\"\"\n",
    "    generator = gen_prime()\n",
    "    \n",
    "    while True:\n",
    "        answer = input(\"Would you like to see the next prime? (Y/N): \")\n",
    "        \n",
    "        if answer.upper().startswith(\"Y\"):\n",
    "            print(\"{} is the next prime number.\".format(next(generator)))\n",
    "        elif answer.upper().startswith(\"N\"):\n",
    "            break\n",
    "        else:\n",
    "            continue\n",
    "        \n",
    "if __name__ == '__main__':\n",
    "    main()"
   ]
  },
  {
   "cell_type": "code",
   "execution_count": 6,
   "metadata": {},
   "outputs": [],
   "source": [
    "#gen_next_prime()"
   ]
  },
  {
   "cell_type": "code",
   "execution_count": 7,
   "metadata": {},
   "outputs": [],
   "source": [
    "prime_generator = gen_prime()"
   ]
  },
  {
   "cell_type": "code",
   "execution_count": 8,
   "metadata": {},
   "outputs": [
    {
     "data": {
      "text/plain": [
       "<generator object gen_prime at 0x000002162AFA8660>"
      ]
     },
     "execution_count": 8,
     "metadata": {},
     "output_type": "execute_result"
    }
   ],
   "source": [
    "prime_generator"
   ]
  },
  {
   "cell_type": "code",
   "execution_count": 9,
   "metadata": {},
   "outputs": [
    {
     "data": {
      "text/plain": [
       "2"
      ]
     },
     "execution_count": 9,
     "metadata": {},
     "output_type": "execute_result"
    }
   ],
   "source": [
    "next(prime_generator)"
   ]
  },
  {
   "cell_type": "code",
   "execution_count": 10,
   "metadata": {},
   "outputs": [
    {
     "data": {
      "text/plain": [
       "3"
      ]
     },
     "execution_count": 10,
     "metadata": {},
     "output_type": "execute_result"
    }
   ],
   "source": [
    "next(prime_generator)"
   ]
  },
  {
   "cell_type": "code",
   "execution_count": 11,
   "metadata": {},
   "outputs": [
    {
     "data": {
      "text/plain": [
       "5"
      ]
     },
     "execution_count": 11,
     "metadata": {},
     "output_type": "execute_result"
    }
   ],
   "source": [
    "next(prime_generator)"
   ]
  }
 ],
 "metadata": {
  "kernelspec": {
   "display_name": "Python 3",
   "language": "python",
   "name": "python3"
  },
  "language_info": {
   "codemirror_mode": {
    "name": "ipython",
    "version": 3
   },
   "file_extension": ".py",
   "mimetype": "text/x-python",
   "name": "python",
   "nbconvert_exporter": "python",
   "pygments_lexer": "ipython3",
   "version": "3.7.1"
  }
 },
 "nbformat": 4,
 "nbformat_minor": 2
}
